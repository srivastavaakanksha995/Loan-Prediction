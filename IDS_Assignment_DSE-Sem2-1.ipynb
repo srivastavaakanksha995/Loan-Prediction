{
 "cells": [
  {
   "cell_type": "markdown",
   "id": "9bda93ba",
   "metadata": {
    "id": "9bda93ba"
   },
   "source": [
    "# <center>        **Introduction to Data Science (S1-22_DSECLZG523)-ASSIGNMENT**</center>\n",
    "\n",
    "## Group No 160\n",
    "\n",
    "## Group Member Names:\n",
    "1. Akanksha Alok Srivastava\n",
    "2. Durgamadhav Behra\n",
    "3. Manu M\n",
    "4. Reenu Rose James"
   ]
  },
  {
   "cell_type": "markdown",
   "id": "f5d80c60",
   "metadata": {
    "id": "f5d80c60"
   },
   "source": [
    "# 1. Business Understanding\n",
    " \n",
    "Students are expected to identify a classification problem of your choice. You have to detail the Business Understanding part of your problem under this heading which basically addresses the following questions.\n",
    " \n",
    "   1. What is the business problem that you are trying to solve?\n",
    "   2. What data do you need to answer the above problem?\n",
    "   3. What are the different sources of data?    \n",
    "   4. What kind of analytics task are you performing?\n",
    "\n",
    "Score: 1 Mark in total (0.25 mark each)"
   ]
  },
  {
   "cell_type": "markdown",
   "id": "6e1c7261",
   "metadata": {},
   "source": [
    "--------------Type the answers below this line-------------- "
   ]
  },
  {
   "cell_type": "markdown",
   "id": "a0e2bc88",
   "metadata": {
    "id": "3298e121"
   },
   "source": [
    "This dataset contains information of the Loan Disbursement details granted to the aaplicant. Based on the Annual Income, Co-applicants income, Credit-History and the term for which the loan is required, the model will predict if the Loan can be sanctioned to the applicant or not. The data was collected from the Bank of America in United States. The goal of this little project is to predict if the Loan will be sanctioned to the applicant based on the Training data set.\n",
    "\n",
    "<b>1. What is the business problem that you are trying to solve?</b></br>\n",
    "A: Based on the training data set, we are trying to build a ML model, which will help in predicting the Status of the Loan Sanctions to the applicant on the provided test data.\n",
    "   \n",
    "<b>2. What data do you need to answer the above problem?</b></br>\n",
    "A: To build a machine learning model that predicts the status of loan sanctions, you will need both historical data on loan applications and their outcomes, as well as data on the applicants who are applying for loans. Some of the data you may need include:</br>\n",
    "<b>Applicant information:</b> This may include the applicant's age, gender, income, employment status, education level, and other demographic information.</br>\n",
    "<b>Loan information:</b> This may include the loan amount, loan type, loan duration, interest rate, and any collateral provided.</br>\n",
    "<b>Credit history:</b> This may include the applicant's credit score, credit history, outstanding debts, and payment history.</br>\n",
    "<b>Employment history:</b> This may include the applicant's current and previous employment status, job title, and length of employment.\n",
    "<b>Loan outcome data:</b> This includes data on whether the loan was approved, rejected, or under review.\n",
    "Once you have gathered the necessary data, you can use machine learning algorithms to analyze the data and predict the status of loan sanctions for new loan applications. It's important to note that the quality and relevance of the data will significantly impact the accuracy of the model's predictions, so it's essential to ensure that the data is clean, accurate, and representative of the population of loan applicants.\n",
    "\n",
    "<b>3. What are the different sources of data?    </b><br>\n",
    "A : Some of the potential data sources are :<br>\n",
    "<b>Loan application forms:</b> This is the primary source of data and contains information such as applicant details, loan amount, loan duration, and purpose.<br>\n",
    "<b>Credit bureaus:</b> Credit bureaus provide information on an applicant's credit score, credit history, outstanding debts, and payment history.<br>\n",
    "<b>Banks and financial institutions:</b> Banks and financial institutions maintain data on loans disbursed, interest rates, and repayment schedules.\n",
    "\n",
    "\n",
    "<b>4. What kind of analytics task are you performing?</b><br>\n",
    "A : In this task, the machine learning algorithm is trained on a training dataset (i.e., historical loan application data) to learn the patterns and relationships between the input features (e.g., applicant details, loan amount, loan duration, credit score, etc.) and the output label (i.e., loan status). Once the model is trained, it can be used to predict the loan status of new loan applications.<br>\n",
    "The classification task is a type of supervised learning that involves predicting a categorical label or class based on the input features. In this case, the loan status can be categorized into two classes, such as approved (Yes) or rejected (No).\n",
    "<br>\n",
    "The performance of the classification model can be evaluated using metrics such as accuracy, precision, recall, F1 score. The goal is to develop a model that can accurately predict the loan status of new loan applications with high precision and recall while avoiding overfitting to the training data."
   ]
  },
  {
   "cell_type": "markdown",
   "id": "3cc8e0cb",
   "metadata": {
    "id": "3cc8e0cb"
   },
   "source": [
    "# 2. Data Acquisition\n",
    " \n",
    "For the problem identified , find an appropriate data set (Your data set must \n",
    "be unique) from any public data source.\n",
    "\n",
    "---\n",
    "\n",
    "\n",
    "\n",
    "## 2.1 Download the data directly\n",
    "\n"
   ]
  },
  {
   "cell_type": "code",
   "execution_count": 1,
   "id": "4b51d895",
   "metadata": {
    "id": "4b51d895"
   },
   "outputs": [
    {
     "name": "stdout",
     "output_type": "stream",
     "text": [
      "Download complete.\n"
     ]
    }
   ],
   "source": [
    "import urllib.request \n",
    "\n",
    "url_test = 'https://raw.githubusercontent.com/srivastavaakanksha995/Loan-Prediction/main/TEST.csv'\n",
    "url_train = 'https://raw.githubusercontent.com/srivastavaakanksha995/Loan-Prediction/main/TRAIN.csv'\n",
    "\n",
    "filename_test = \"LOAN_TEST.csv\" \n",
    "filename_train = \"LOAN_TRAIN.csv\"\n",
    "\n",
    "urllib.request.urlretrieve(url_test, filename_test) \n",
    "urllib.request.urlretrieve(url_train, filename_train) \n",
    "\n",
    "\n",
    "print(\"Download complete.\")"
   ]
  },
  {
   "cell_type": "markdown",
   "id": "49530d0c",
   "metadata": {
    "id": "49530d0c"
   },
   "source": [
    "## 2.2 Code for converting the above downloaded data into a dataframe"
   ]
  },
  {
   "cell_type": "code",
   "execution_count": 2,
   "id": "c1f4c171",
   "metadata": {
    "id": "c1f4c171"
   },
   "outputs": [],
   "source": [
    "#Importing the libraries\n",
    "import numpy as np\n",
    "import pandas as pd\n",
    "import matplotlib.pyplot as plt\n",
    "import seaborn as sns\n",
    "import warnings\n",
    "warnings.filterwarnings('ignore')\n",
    "import os\n",
    "import scipy\n",
    "\n",
    "from scipy import stats\n",
    "from scipy.stats import pearsonr\n",
    "from scipy.stats import ttest_ind\n",
    "from sklearn.metrics import classification_report\n",
    "from sklearn.metrics import confusion_matrix\n",
    "from sklearn.preprocessing import MinMaxScaler\n",
    "from sklearn.model_selection import train_test_split\n",
    "\n",
    "from sklearn.linear_model import LogisticRegression\n",
    "from sklearn.neighbors import KNeighborsClassifier\n",
    "from sklearn.svm import SVC\n",
    "from sklearn.naive_bayes import CategoricalNB\n",
    "from sklearn.naive_bayes import GaussianNB\n",
    "from sklearn.tree import DecisionTreeClassifier\n",
    "from sklearn.ensemble import RandomForestClassifier\n",
    "from sklearn.ensemble import GradientBoostingClassifier\n",
    "from sklearn.model_selection import GridSearchCV, RandomizedSearchCV\n"
   ]
  },
  {
   "cell_type": "code",
   "execution_count": 3,
   "id": "ea980bf1",
   "metadata": {},
   "outputs": [],
   "source": [
    "# Reading the file\n",
    "\n",
    "df_train = pd.read_csv(\"LOAN_TRAIN.csv\")\n",
    "df_test = pd.read_csv(\"LOAN_TEST.csv\")"
   ]
  },
  {
   "cell_type": "markdown",
   "id": "7b1fea4d",
   "metadata": {
    "id": "7b1fea4d"
   },
   "source": [
    "## 2.3 Confirm the data has been correctly by displaying the first 5 and last 5 records."
   ]
  },
  {
   "cell_type": "code",
   "execution_count": 4,
   "id": "624e6c58",
   "metadata": {
    "id": "624e6c58"
   },
   "outputs": [
    {
     "name": "stdout",
     "output_type": "stream",
     "text": [
      "====================================================================================================\n",
      " Training Data Information\n",
      "\n",
      "   Loan_ID Gender Marital Status Dependents     Education  Occupation  \\\n",
      "0     1002   Male             No          0      Graduate  Unemployed   \n",
      "1     1003   Male            Yes          1      Graduate  Unemployed   \n",
      "2     1005   Male            Yes          0      Graduate    Employed   \n",
      "3     1006   Male            Yes          0  Not Graduate  Unemployed   \n",
      "4     1008   Male             No          0      Graduate  Unemployed   \n",
      "\n",
      "   Applican tIncome  Coapplicant Income  Loan Amount  Tenure (in Years)  \\\n",
      "0              5849                 0.0          NaN                 30   \n",
      "1              4583              1508.0        128.0                 30   \n",
      "2              3000                 0.0         66.0                 30   \n",
      "3              2583              2358.0        120.0                 30   \n",
      "4              6000                 0.0        141.0                 30   \n",
      "\n",
      "   Credit History  Ongoing Loan Region Approval Status  \n",
      "0              1.0          Yes  Urban        Approved  \n",
      "1              1.0           No  Rural    Not Approved  \n",
      "2              1.0          Yes  Urban        Approved  \n",
      "3              1.0          Yes  Urban        Approved  \n",
      "4              1.0          Yes  Urban        Approved  \n",
      "     Loan_ID  Gender Marital Status Dependents Education  Occupation  \\\n",
      "609     2978  Female             No          0  Graduate  Unemployed   \n",
      "610     2979    Male            Yes         3+  Graduate  Unemployed   \n",
      "611     2983    Male            Yes          1  Graduate  Unemployed   \n",
      "612     2984    Male            Yes          2  Graduate  Unemployed   \n",
      "613     2990  Female             No          0  Graduate    Employed   \n",
      "\n",
      "     Applican tIncome  Coapplicant Income  Loan Amount  Tenure (in Years)  \\\n",
      "609              2900                 0.0         71.0                 30   \n",
      "610              4106                 0.0         40.0                 15   \n",
      "611              8072               240.0        253.0                 30   \n",
      "612              7583                 0.0        187.0                 30   \n",
      "613              4583                 0.0        133.0                 30   \n",
      "\n",
      "     Credit History  Ongoing Loan     Region Approval Status  \n",
      "609              1.0          Yes      Rural        Approved  \n",
      "610              1.0          Yes      Rural        Approved  \n",
      "611              1.0          Yes      Urban        Approved  \n",
      "612              1.0          Yes      Urban        Approved  \n",
      "613              0.0           No  Semiurban    Not Approved  \n",
      "====================================================================================================\n",
      " Test Data Information\n",
      "\n",
      "   Loan_ID Gender Marital Status Dependents     Education  Occupation  \\\n",
      "0     1015   Male            Yes          0      Graduate  Unemployed   \n",
      "1     1022   Male            Yes          1      Graduate  Unemployed   \n",
      "2     1031   Male            Yes          2      Graduate  Unemployed   \n",
      "3     1035   Male            Yes          2      Graduate  Unemployed   \n",
      "4     1051   Male             No          0  Not Graduate  Unemployed   \n",
      "\n",
      "   Applican tIncome  Coapplicant Income  Loan Amount  Tenure (in Years)  \\\n",
      "0              5720                   0        110.0               30.0   \n",
      "1              3076                1500        126.0               30.0   \n",
      "2              5000                1800        208.0               30.0   \n",
      "3              2340                2546        100.0               30.0   \n",
      "4              3276                   0         78.0               30.0   \n",
      "\n",
      "   Credit History  Ongoing Loan Region  \n",
      "0              1.0          Yes  Urban  \n",
      "1              1.0           No  Urban  \n",
      "2              1.0           No  Urban  \n",
      "3              NaN           No  Urban  \n",
      "4              1.0          Yes  Urban  \n",
      "   Loan_ID Gender Marital Status Dependents     Education  Occupation  \\\n",
      "0     1002   Male             No          0      Graduate  Unemployed   \n",
      "1     1003   Male            Yes          1      Graduate  Unemployed   \n",
      "2     1005   Male            Yes          0      Graduate    Employed   \n",
      "3     1006   Male            Yes          0  Not Graduate  Unemployed   \n",
      "4     1008   Male             No          0      Graduate  Unemployed   \n",
      "\n",
      "   Applican tIncome  Coapplicant Income  Loan Amount  Tenure (in Years)  \\\n",
      "0              5849                 0.0          NaN                 30   \n",
      "1              4583              1508.0        128.0                 30   \n",
      "2              3000                 0.0         66.0                 30   \n",
      "3              2583              2358.0        120.0                 30   \n",
      "4              6000                 0.0        141.0                 30   \n",
      "\n",
      "   Credit History  Ongoing Loan Region Approval Status  \n",
      "0              1.0          Yes  Urban        Approved  \n",
      "1              1.0           No  Rural    Not Approved  \n",
      "2              1.0          Yes  Urban        Approved  \n",
      "3              1.0          Yes  Urban        Approved  \n",
      "4              1.0          Yes  Urban        Approved  \n"
     ]
    }
   ],
   "source": [
    "print(\"====================================================================================================\")\n",
    "print(\" Training Data Information\")\n",
    "print(\"\")\n",
    "print(df_train.head(5))\n",
    "print(df_train.tail(5))\n",
    "print(\"====================================================================================================\")\n",
    "print(\" Test Data Information\")\n",
    "print(\"\")\n",
    "print(df_test.head(5))\n",
    "print(df_train.head(5))"
   ]
  },
  {
   "cell_type": "markdown",
   "id": "bb84fc56",
   "metadata": {
    "id": "bb84fc56"
   },
   "source": [
    "## 2.4 Display the column headings, statistical information, description and statistical summary of the data."
   ]
  },
  {
   "cell_type": "code",
   "execution_count": 5,
   "id": "086ad28e",
   "metadata": {
    "id": "086ad28e"
   },
   "outputs": [
    {
     "name": "stdout",
     "output_type": "stream",
     "text": [
      "(614, 14) (367, 13)\n"
     ]
    }
   ],
   "source": [
    "print(df_train.shape, df_test.shape)"
   ]
  },
  {
   "cell_type": "code",
   "execution_count": 6,
   "id": "72f79362",
   "metadata": {},
   "outputs": [
    {
     "name": "stdout",
     "output_type": "stream",
     "text": [
      "\n",
      " Training Dataset - Column headings:\n",
      "['Loan_ID', 'Gender', 'Marital Status', 'Dependents', 'Education', 'Occupation', 'Applican tIncome', 'Coapplicant Income', 'Loan Amount', 'Tenure (in Years)', 'Credit History ', 'Ongoing Loan', 'Region', 'Approval Status']\n",
      "\n",
      " Test Dataset - Column headings:\n",
      "['Loan_ID', 'Gender', 'Marital Status', 'Dependents', 'Education', 'Occupation', 'Applican tIncome', 'Coapplicant Income', 'Loan Amount', 'Tenure (in Years)', 'Credit History ', 'Ongoing Loan', 'Region']\n"
     ]
    }
   ],
   "source": [
    "# Display column headings\n",
    "\n",
    "print(\"\\n Training Dataset - Column headings:\")\n",
    "print(list(df_train.columns))\n",
    "\n",
    "\n",
    "print(\"\\n Test Dataset - Column headings:\")\n",
    "print(list(df_test.columns))"
   ]
  },
  {
   "cell_type": "code",
   "execution_count": 7,
   "id": "fca793f7",
   "metadata": {},
   "outputs": [
    {
     "name": "stdout",
     "output_type": "stream",
     "text": [
      "\n",
      " Training Dataset - Statistical information:\n",
      "           Loan_ID  Applican tIncome  Coapplicant Income  Loan Amount  \\\n",
      "count   614.000000        614.000000          614.000000   592.000000   \n",
      "mean   1999.785016       5403.459283         1621.245798   146.412162   \n",
      "std     567.097644       6109.041673         2926.248369    85.587325   \n",
      "min    1002.000000        150.000000            0.000000     9.000000   \n",
      "25%    1532.750000       2877.500000            0.000000   100.000000   \n",
      "50%    1993.500000       3812.500000         1188.500000   128.000000   \n",
      "75%    2476.750000       5795.000000         2297.250000   168.000000   \n",
      "max    2990.000000      81000.000000        41667.000000   700.000000   \n",
      "\n",
      "       Tenure (in Years)  Credit History   \n",
      "count         614.000000       564.000000  \n",
      "mean           27.850163         0.842199  \n",
      "std             6.848657         0.364878  \n",
      "min             0.000000         0.000000  \n",
      "25%            30.000000         1.000000  \n",
      "50%            30.000000         1.000000  \n",
      "75%            30.000000         1.000000  \n",
      "max            40.000000         1.000000  \n",
      "\n",
      " Testing Dataset - Statistical information:\n",
      "           Loan_ID  Applican tIncome  Coapplicant Income  Loan Amount  \\\n",
      "count   614.000000        614.000000          614.000000   592.000000   \n",
      "mean   1999.785016       5403.459283         1621.245798   146.412162   \n",
      "std     567.097644       6109.041673         2926.248369    85.587325   \n",
      "min    1002.000000        150.000000            0.000000     9.000000   \n",
      "25%    1532.750000       2877.500000            0.000000   100.000000   \n",
      "50%    1993.500000       3812.500000         1188.500000   128.000000   \n",
      "75%    2476.750000       5795.000000         2297.250000   168.000000   \n",
      "max    2990.000000      81000.000000        41667.000000   700.000000   \n",
      "\n",
      "       Tenure (in Years)  Credit History   \n",
      "count         614.000000       564.000000  \n",
      "mean           27.850163         0.842199  \n",
      "std             6.848657         0.364878  \n",
      "min             0.000000         0.000000  \n",
      "25%            30.000000         1.000000  \n",
      "50%            30.000000         1.000000  \n",
      "75%            30.000000         1.000000  \n",
      "max            40.000000         1.000000  \n"
     ]
    }
   ],
   "source": [
    "# Display statistical information\n",
    "\n",
    "print(\"\\n Training Dataset - Statistical information:\")\n",
    "print(df_train.describe())\n",
    "\n",
    "\n",
    "\n",
    "print(\"\\n Testing Dataset - Statistical information:\")\n",
    "print(df_train.describe())"
   ]
  },
  {
   "cell_type": "code",
   "execution_count": 8,
   "id": "96b710f6",
   "metadata": {},
   "outputs": [
    {
     "name": "stdout",
     "output_type": "stream",
     "text": [
      "\n",
      "Train Dataset - Description:\n",
      "<class 'pandas.core.frame.DataFrame'>\n",
      "RangeIndex: 614 entries, 0 to 613\n",
      "Data columns (total 14 columns):\n",
      " #   Column              Non-Null Count  Dtype  \n",
      "---  ------              --------------  -----  \n",
      " 0   Loan_ID             614 non-null    int64  \n",
      " 1   Gender              601 non-null    object \n",
      " 2   Marital Status      611 non-null    object \n",
      " 3   Dependents          599 non-null    object \n",
      " 4   Education           614 non-null    object \n",
      " 5   Occupation          582 non-null    object \n",
      " 6   Applican tIncome    614 non-null    int64  \n",
      " 7   Coapplicant Income  614 non-null    float64\n",
      " 8   Loan Amount         592 non-null    float64\n",
      " 9   Tenure (in Years)   614 non-null    int64  \n",
      " 10  Credit History      564 non-null    float64\n",
      " 11  Ongoing Loan        614 non-null    object \n",
      " 12  Region              614 non-null    object \n",
      " 13  Approval Status     614 non-null    object \n",
      "dtypes: float64(3), int64(3), object(8)\n",
      "memory usage: 67.3+ KB\n",
      "None\n",
      "\n",
      "Test Dataset - Description:\n",
      "<class 'pandas.core.frame.DataFrame'>\n",
      "RangeIndex: 367 entries, 0 to 366\n",
      "Data columns (total 13 columns):\n",
      " #   Column              Non-Null Count  Dtype  \n",
      "---  ------              --------------  -----  \n",
      " 0   Loan_ID             367 non-null    int64  \n",
      " 1   Gender              356 non-null    object \n",
      " 2   Marital Status      367 non-null    object \n",
      " 3   Dependents          357 non-null    object \n",
      " 4   Education           367 non-null    object \n",
      " 5   Occupation          344 non-null    object \n",
      " 6   Applican tIncome    367 non-null    int64  \n",
      " 7   Coapplicant Income  367 non-null    int64  \n",
      " 8   Loan Amount         362 non-null    float64\n",
      " 9   Tenure (in Years)   367 non-null    float64\n",
      " 10  Credit History      338 non-null    float64\n",
      " 11  Ongoing Loan        367 non-null    object \n",
      " 12  Region              367 non-null    object \n",
      "dtypes: float64(3), int64(3), object(7)\n",
      "memory usage: 37.4+ KB\n",
      "None\n"
     ]
    }
   ],
   "source": [
    "# Display description\n",
    "\n",
    "print(\"\\nTrain Dataset - Description:\")\n",
    "print(df_train.info())\n",
    "\n",
    "\n",
    "print(\"\\nTest Dataset - Description:\")\n",
    "print(df_test.info())"
   ]
  },
  {
   "cell_type": "code",
   "execution_count": 9,
   "id": "3ee6829f",
   "metadata": {},
   "outputs": [
    {
     "name": "stdout",
     "output_type": "stream",
     "text": [
      "\n",
      " Training Dataset - Statistical summary:\n",
      "            Loan_ID Gender Marital Status Dependents Education  Occupation  \\\n",
      "count    614.000000    601            611        599       614         582   \n",
      "unique          NaN      2              2          4         2           2   \n",
      "top             NaN   Male            Yes          0  Graduate  Unemployed   \n",
      "freq            NaN    489            398        345       480         500   \n",
      "mean    1999.785016    NaN            NaN        NaN       NaN         NaN   \n",
      "std      567.097644    NaN            NaN        NaN       NaN         NaN   \n",
      "min     1002.000000    NaN            NaN        NaN       NaN         NaN   \n",
      "25%     1532.750000    NaN            NaN        NaN       NaN         NaN   \n",
      "50%     1993.500000    NaN            NaN        NaN       NaN         NaN   \n",
      "75%     2476.750000    NaN            NaN        NaN       NaN         NaN   \n",
      "max     2990.000000    NaN            NaN        NaN       NaN         NaN   \n",
      "\n",
      "        Applican tIncome  Coapplicant Income  Loan Amount  Tenure (in Years)  \\\n",
      "count         614.000000          614.000000   592.000000         614.000000   \n",
      "unique               NaN                 NaN          NaN                NaN   \n",
      "top                  NaN                 NaN          NaN                NaN   \n",
      "freq                 NaN                 NaN          NaN                NaN   \n",
      "mean         5403.459283         1621.245798   146.412162          27.850163   \n",
      "std          6109.041673         2926.248369    85.587325           6.848657   \n",
      "min           150.000000            0.000000     9.000000           0.000000   \n",
      "25%          2877.500000            0.000000   100.000000          30.000000   \n",
      "50%          3812.500000         1188.500000   128.000000          30.000000   \n",
      "75%          5795.000000         2297.250000   168.000000          30.000000   \n",
      "max         81000.000000        41667.000000   700.000000          40.000000   \n",
      "\n",
      "        Credit History  Ongoing Loan     Region Approval Status  \n",
      "count        564.000000          614        614             614  \n",
      "unique              NaN            2          3               2  \n",
      "top                 NaN          Yes  Semiurban        Approved  \n",
      "freq                NaN          422        233             422  \n",
      "mean           0.842199          NaN        NaN             NaN  \n",
      "std            0.364878          NaN        NaN             NaN  \n",
      "min            0.000000          NaN        NaN             NaN  \n",
      "25%            1.000000          NaN        NaN             NaN  \n",
      "50%            1.000000          NaN        NaN             NaN  \n",
      "75%            1.000000          NaN        NaN             NaN  \n",
      "max            1.000000          NaN        NaN             NaN  \n",
      "\n",
      " Testing Dataset - Statistical summary:\n",
      "            Loan_ID Gender Marital Status Dependents Education  Occupation  \\\n",
      "count    367.000000    356            367        357       367         344   \n",
      "unique          NaN      2              2          4         2           2   \n",
      "top             NaN   Male            Yes          0  Graduate  Unemployed   \n",
      "freq            NaN    286            233        200       283         307   \n",
      "mean    2009.234332    NaN            NaN        NaN       NaN         NaN   \n",
      "std      584.577513    NaN            NaN        NaN       NaN         NaN   \n",
      "min     1015.000000    NaN            NaN        NaN       NaN         NaN   \n",
      "25%     1484.500000    NaN            NaN        NaN       NaN         NaN   \n",
      "50%     2042.000000    NaN            NaN        NaN       NaN         NaN   \n",
      "75%     2509.500000    NaN            NaN        NaN       NaN         NaN   \n",
      "max     2989.000000    NaN            NaN        NaN       NaN         NaN   \n",
      "\n",
      "        Applican tIncome  Coapplicant Income  Loan Amount  Tenure (in Years)  \\\n",
      "count         367.000000          367.000000   362.000000         367.000000   \n",
      "unique               NaN                 NaN          NaN                NaN   \n",
      "top                  NaN                 NaN          NaN                NaN   \n",
      "freq                 NaN                 NaN          NaN                NaN   \n",
      "mean         4805.599455         1569.577657   136.132597          28.078111   \n",
      "std          4910.685399         2334.232099    61.366652           6.491350   \n",
      "min             0.000000            0.000000    28.000000           0.000000   \n",
      "25%          2864.000000            0.000000   100.250000          30.000000   \n",
      "50%          3786.000000         1025.000000   125.000000          30.000000   \n",
      "75%          5060.000000         2430.500000   158.000000          30.000000   \n",
      "max         72529.000000        24000.000000   550.000000          40.000000   \n",
      "\n",
      "        Credit History  Ongoing Loan Region  \n",
      "count        338.000000          367    367  \n",
      "unique              NaN            2      3  \n",
      "top                 NaN          Yes  Urban  \n",
      "freq                NaN          234    140  \n",
      "mean           0.825444          NaN    NaN  \n",
      "std            0.380150          NaN    NaN  \n",
      "min            0.000000          NaN    NaN  \n",
      "25%            1.000000          NaN    NaN  \n",
      "50%            1.000000          NaN    NaN  \n",
      "75%            1.000000          NaN    NaN  \n",
      "max            1.000000          NaN    NaN  \n"
     ]
    }
   ],
   "source": [
    "# Display statistical summary in details\n",
    "\n",
    "print(\"\\n Training Dataset - Statistical summary:\")\n",
    "print(df_train.describe(include='all'))\n",
    "\n",
    "\n",
    "print(\"\\n Testing Dataset - Statistical summary:\")\n",
    "print(df_test.describe(include='all'))\n"
   ]
  },
  {
   "cell_type": "markdown",
   "id": "d3790d59",
   "metadata": {},
   "source": [
    "<b> Gender Variable </b>"
   ]
  },
  {
   "cell_type": "code",
   "execution_count": 10,
   "id": "a05665af",
   "metadata": {},
   "outputs": [
    {
     "data": {
      "text/plain": [
       "Male      489\n",
       "Female    112\n",
       "NaN        13\n",
       "Name: Gender, dtype: int64"
      ]
     },
     "execution_count": 10,
     "metadata": {},
     "output_type": "execute_result"
    }
   ],
   "source": [
    "df_train.Gender.value_counts(dropna = False)"
   ]
  },
  {
   "cell_type": "code",
   "execution_count": 11,
   "id": "0a9db5a2",
   "metadata": {},
   "outputs": [
    {
     "data": {
      "image/png": "[encoded data removed]",
      "text/plain": [
       "<Figure size 432x288 with 1 Axes>"
      ]
     },
     "metadata": {
      "needs_background": "light"
     },
     "output_type": "display_data"
    }
   ],
   "source": [
    "sns.countplot(x=\"Gender\", data = df_train)\n",
    "plt.show()"
   ]
  },
  {
   "cell_type": "code",
   "execution_count": 12,
   "id": "69d00b69",
   "metadata": {},
   "outputs": [
    {
     "name": "stdout",
     "output_type": "stream",
     "text": [
      "Percentage of Male applicant: 79.64169381107492 %\n",
      "Percentage of Female applicant:  18.241042345276874 %\n",
      "Missing values percentage:% 2.1172638436482085 %\n"
     ]
    }
   ],
   "source": [
    "count_male = len(df_train[df_train.Gender == 'Male'])\n",
    "count_female = len(df_train[df_train.Gender == 'Female'])\n",
    "count_null = len(df_train[df_train.Gender.isnull()])\n",
    "\n",
    "print(\"Percentage of Male applicant:\",(count_male / (len(df_train.Gender))*100),\"%\")\n",
    "print(\"Percentage of Female applicant: \",(count_female / (len(df_train.Gender))*100),\"%\")\n",
    "print(\"Missing values percentage:%\",(count_null / (len(df_train.Gender))*100), \"%\")"
   ]
  },
  {
   "cell_type": "markdown",
   "id": "79c888dc",
   "metadata": {},
   "source": [
    "We can observe that the number of male applicants is higher compared to female applicants. Also there are missing values in this column"
   ]
  },
  {
   "cell_type": "markdown",
   "id": "5a056a12",
   "metadata": {},
   "source": [
    "<b> Marital Status </b>"
   ]
  },
  {
   "cell_type": "code",
   "execution_count": 13,
   "id": "2e30c400",
   "metadata": {},
   "outputs": [
    {
     "data": {
      "text/plain": [
       "Yes    398\n",
       "No     213\n",
       "NaN      3\n",
       "Name: Marital Status, dtype: int64"
      ]
     },
     "execution_count": 13,
     "metadata": {},
     "output_type": "execute_result"
    }
   ],
   "source": [
    "df_train['Marital Status'].value_counts(dropna = False)"
   ]
  },
  {
   "cell_type": "code",
   "execution_count": 14,
   "id": "26a3bfc8",
   "metadata": {},
   "outputs": [
    {
     "data": {
      "image/png": "[encoded data removed]",
      "text/plain": [
       "<Figure size 432x288 with 1 Axes>"
      ]
     },
     "metadata": {
      "needs_background": "light"
     },
     "output_type": "display_data"
    }
   ],
   "source": [
    "sns.countplot(x = \"Marital Status\", data = df_train)\n",
    "plt.show()"
   ]
  },
  {
   "cell_type": "code",
   "execution_count": 15,
   "id": "9df30a6d",
   "metadata": {},
   "outputs": [
    {
     "name": "stdout",
     "output_type": "stream",
     "text": [
      "Percentage of married: 64.82084690553745 %\n",
      "Percentage of Non married applicant: 34.69055374592834 %\n",
      "Missing values percentage: 0.4885993485342019 %\n"
     ]
    }
   ],
   "source": [
    "count_married = len(df_train[df_train['Marital Status'] == 'Yes'])\n",
    "count_non_married = len(df_train[df_train['Marital Status'] == 'No'])\n",
    "count_null = len(df_train[df_train['Marital Status'].isnull()])\n",
    "\n",
    "print(\"Percentage of married:\",(count_married / (len(df_train['Marital Status']))*100),\"%\")\n",
    "print(\"Percentage of Non married applicant:\",(count_non_married / (len(df_train['Marital Status']))*100),\"%\")\n",
    "print(\"Missing values percentage:\",(count_null / (len(df_train['Marital Status']))*100),\"%\")\n"
   ]
  },
  {
   "cell_type": "markdown",
   "id": "ca966b68",
   "metadata": {},
   "source": [
    "Number of applicants that has been married is quite high as compared to applicants that hasn't married. Also there are small number of missing values in this column as well."
   ]
  },
  {
   "cell_type": "markdown",
   "id": "f596e9dd",
   "metadata": {},
   "source": [
    "<b> Education </b>"
   ]
  },
  {
   "cell_type": "code",
   "execution_count": 16,
   "id": "cbdc7198",
   "metadata": {},
   "outputs": [
    {
     "data": {
      "text/plain": [
       "Graduate        480\n",
       "Not Graduate    134\n",
       "Name: Education, dtype: int64"
      ]
     },
     "execution_count": 16,
     "metadata": {},
     "output_type": "execute_result"
    }
   ],
   "source": [
    "df_train.Education.value_counts(dropna=False)"
   ]
  },
  {
   "cell_type": "code",
   "execution_count": 17,
   "id": "b3687373",
   "metadata": {},
   "outputs": [
    {
     "data": {
      "image/png": "[encoded data removed]",
      "text/plain": [
       "<Figure size 432x288 with 1 Axes>"
      ]
     },
     "metadata": {
      "needs_background": "light"
     },
     "output_type": "display_data"
    }
   ],
   "source": [
    "sns.countplot(x = \"Education\", data = df_train)\n",
    "plt.show()"
   ]
  },
  {
   "cell_type": "code",
   "execution_count": 18,
   "id": "4c892d2d",
   "metadata": {},
   "outputs": [
    {
     "name": "stdout",
     "output_type": "stream",
     "text": [
      "Percentage of graduate applicant: 78.17589576547232 %\n",
      "Percentage of Not graduate applicant: 21.824104234527688 %\n",
      "Missing values percentage: 0.0 %\n"
     ]
    }
   ],
   "source": [
    "count_graduate = len(df_train[df_train.Education == 'Graduate'])\n",
    "count_not_graduate = len(df_train[df_train.Education == 'Not Graduate'])\n",
    "count_null = len(df_train[df_train.Education.isnull()])\n",
    "\n",
    "print(\"Percentage of graduate applicant:\",(count_graduate / (len(df_train.Education))*100), \"%\")\n",
    "print(\"Percentage of Not graduate applicant:\",(count_not_graduate / (len(df_train.Education))*100), \"%\")\n",
    "print(\"Missing values percentage:\",(count_null / (len(df_train.Education))*100),\"%\")"
   ]
  },
  {
   "cell_type": "markdown",
   "id": "5983d81d",
   "metadata": {},
   "source": [
    "The number of applicants that has been graduated is higher as compared to applicants that hasn't graduated. Also, there are no missing values in this column"
   ]
  },
  {
   "cell_type": "markdown",
   "id": "7ffdc839",
   "metadata": {},
   "source": [
    "<b> Occupation </b>"
   ]
  },
  {
   "cell_type": "code",
   "execution_count": 19,
   "id": "905e9bf6",
   "metadata": {},
   "outputs": [
    {
     "data": {
      "text/plain": [
       "Unemployed    500\n",
       "Employed       82\n",
       "NaN            32\n",
       "Name: Occupation, dtype: int64"
      ]
     },
     "execution_count": 19,
     "metadata": {},
     "output_type": "execute_result"
    }
   ],
   "source": [
    "df_train.Occupation.value_counts(dropna=False)"
   ]
  },
  {
   "cell_type": "code",
   "execution_count": 20,
   "id": "99008a39",
   "metadata": {},
   "outputs": [
    {
     "data": {
      "image/png": "[encoded data removed]",
      "text/plain": [
       "<Figure size 432x288 with 1 Axes>"
      ]
     },
     "metadata": {
      "needs_background": "light"
     },
     "output_type": "display_data"
    }
   ],
   "source": [
    "sns.countplot(x = \"Occupation\", data = df_train)\n",
    "plt.show()"
   ]
  },
  {
   "cell_type": "code",
   "execution_count": 21,
   "id": "a7cb3faf",
   "metadata": {},
   "outputs": [
    {
     "name": "stdout",
     "output_type": "stream",
     "text": [
      "Percentage of Unemployed: 81.43322475570032 %\n",
      "Percentage of Employed :  13.355048859934854 %\n",
      "Missing values percentage:  5.211726384364821 %\n"
     ]
    }
   ],
   "source": [
    "count_unemployed = len(df_train[df_train.Occupation == 'Unemployed'])\n",
    "count_employed = len(df_train[df_train.Occupation == 'Employed'])\n",
    "count_null = len(df_train[df_train.Occupation.isnull()])\n",
    "\n",
    "print(\"Percentage of Unemployed:\",(count_unemployed / (len(df_train.Occupation))*100),\"%\")\n",
    "print(\"Percentage of Employed : \",(count_employed / (len(df_train.Occupation))*100),\"%\")\n",
    "print(\"Missing values percentage: \",(count_null / (len(df_train.Occupation))*100),\"%\")"
   ]
  },
  {
   "cell_type": "markdown",
   "id": "0a3c4862",
   "metadata": {},
   "source": [
    "The number of applicants that are not Unemployed are higher as compared to applicants that are Employed. It also can be seen, there are missing values in this column."
   ]
  },
  {
   "cell_type": "markdown",
   "id": "c26db040",
   "metadata": {},
   "source": [
    "<b> Credit History </b>"
   ]
  },
  {
   "cell_type": "code",
   "execution_count": 22,
   "id": "524305fd",
   "metadata": {},
   "outputs": [
    {
     "data": {
      "text/plain": [
       "1.0    475\n",
       "0.0     89\n",
       "NaN     50\n",
       "Name: Credit History , dtype: int64"
      ]
     },
     "execution_count": 22,
     "metadata": {},
     "output_type": "execute_result"
    }
   ],
   "source": [
    "df_train['Credit History '].value_counts(dropna=False)"
   ]
  },
  {
   "cell_type": "code",
   "execution_count": 23,
   "id": "517ecff6",
   "metadata": {},
   "outputs": [
    {
     "data": {
      "image/png": "[encoded data removed]",
      "text/plain": [
       "<Figure size 432x288 with 1 Axes>"
      ]
     },
     "metadata": {
      "needs_background": "light"
     },
     "output_type": "display_data"
    }
   ],
   "source": [
    "sns.countplot(x = \"Credit History \", data = df_train, palette = \"crest\")\n",
    "plt.show()"
   ]
  },
  {
   "cell_type": "code",
   "execution_count": 24,
   "id": "79d58c37",
   "metadata": {},
   "outputs": [
    {
     "name": "stdout",
     "output_type": "stream",
     "text": [
      "Percentage of Any credit history: 77.36156351791531 %\n",
      "Percentage of No credit history: 14.495114006514658 %\n",
      "Missing values percentage:  8.143322475570033 %\n"
     ]
    }
   ],
   "source": [
    "count_1 = len(df_train[df_train['Credit History '] == 1])\n",
    "count_0 = len(df_train[df_train['Credit History '] == 0])\n",
    "count_null = len(df_train[df_train['Credit History '].isnull()])\n",
    "\n",
    "print(\"Percentage of Any credit history:\", (count_1 / (len(df_train['Credit History ']))*100),\"%\")\n",
    "print(\"Percentage of No credit history:\",(count_0 / (len(df_train['Credit History ']))*100),\"%\")\n",
    "print(\"Missing values percentage: \",(count_null / (len(df_train['Credit History ']))*100),\"%\")"
   ]
  },
  {
   "cell_type": "markdown",
   "id": "4ab9b423",
   "metadata": {},
   "source": [
    "The number of applicants that have good credit history is higher as compared to applicants that have bad credit history. There are missing values in this column.\n"
   ]
  },
  {
   "cell_type": "markdown",
   "id": "3d9a1734",
   "metadata": {},
   "source": [
    "<b> Ongoing Loan </b>"
   ]
  },
  {
   "cell_type": "code",
   "execution_count": 25,
   "id": "0a683d36",
   "metadata": {},
   "outputs": [
    {
     "data": {
      "text/plain": [
       "Yes    422\n",
       "No     192\n",
       "Name: Ongoing Loan, dtype: int64"
      ]
     },
     "execution_count": 25,
     "metadata": {},
     "output_type": "execute_result"
    }
   ],
   "source": [
    "df_train['Ongoing Loan'].value_counts(dropna=False)"
   ]
  },
  {
   "cell_type": "code",
   "execution_count": 26,
   "id": "20a68644",
   "metadata": {},
   "outputs": [
    {
     "data": {
      "image/png": "[encoded data removed]",
      "text/plain": [
       "<Figure size 432x288 with 1 Axes>"
      ]
     },
     "metadata": {
      "needs_background": "light"
     },
     "output_type": "display_data"
    }
   ],
   "source": [
    "sns.countplot(x = \"Ongoing Loan\", data = df_train, palette = \"crest\")\n",
    "plt.show()"
   ]
  },
  {
   "cell_type": "code",
   "execution_count": 27,
   "id": "c74c9e5e",
   "metadata": {},
   "outputs": [
    {
     "name": "stdout",
     "output_type": "stream",
     "text": [
      "Percentage of people having Ongoing Loan: 68.72964169381108 %\n",
      "Percentage of people not having Ongoing Loan: 31.27035830618892 %\n",
      "Missing values percentage:  0.0 %\n"
     ]
    }
   ],
   "source": [
    "count_Yes = len(df_train[df_train['Ongoing Loan'] == \"Yes\"])\n",
    "count_No = len(df_train[df_train['Ongoing Loan'] == \"No\"])\n",
    "count_null = len(df_train[df_train['Ongoing Loan'].isnull()])\n",
    "\n",
    "print(\"Percentage of people having Ongoing Loan:\", (count_Yes / (len(df_train['Ongoing Loan']))*100),\"%\")\n",
    "print(\"Percentage of people not having Ongoing Loan:\",(count_No / (len(df_train['Ongoing Loan']))*100),\"%\")\n",
    "print(\"Missing values percentage: \",(count_null / (len(df_train['Ongoing Loan']))*100),\"%\")"
   ]
  },
  {
   "cell_type": "markdown",
   "id": "3d1994eb",
   "metadata": {},
   "source": [
    "The number of applicants already having an Ongoing Loan is higher as compared to applicants not having an Ongoing Loan. There are no missing values."
   ]
  },
  {
   "cell_type": "markdown",
   "id": "c3530e69",
   "metadata": {},
   "source": [
    "<b> Area </b>"
   ]
  },
  {
   "cell_type": "code",
   "execution_count": 28,
   "id": "11866748",
   "metadata": {},
   "outputs": [
    {
     "data": {
      "text/plain": [
       "Semiurban    233\n",
       "Urban        202\n",
       "Rural        179\n",
       "Name: Region, dtype: int64"
      ]
     },
     "execution_count": 28,
     "metadata": {},
     "output_type": "execute_result"
    }
   ],
   "source": [
    "df_train.Region.value_counts(dropna=False)"
   ]
  },
  {
   "cell_type": "code",
   "execution_count": 29,
   "id": "f83975eb",
   "metadata": {},
   "outputs": [
    {
     "data": {
      "image/png": "[encoded data removed]",
      "text/plain": [
       "<Figure size 432x288 with 1 Axes>"
      ]
     },
     "metadata": {
      "needs_background": "light"
     },
     "output_type": "display_data"
    }
   ],
   "source": [
    "sns.countplot(x = \"Region\", data = df_train, palette=\"crest\")\n",
    "plt.show()"
   ]
  },
  {
   "cell_type": "code",
   "execution_count": 30,
   "id": "3ed0cf9b",
   "metadata": {},
   "outputs": [
    {
     "name": "stdout",
     "output_type": "stream",
     "text": [
      "Percentage of Urban: 32.89902280130293 %\n",
      "Percentage of Rural: 29.153094462540718 %\n",
      "Percentage of Semiurban: 37.94788273615635 %\n",
      "Missing values percentage: 0.0 %\n"
     ]
    }
   ],
   "source": [
    "count_urban = len(df_train[df_train.Region == 'Urban'])\n",
    "count_rural = len(df_train[df_train.Region == 'Rural'])\n",
    "count_semi_urban = len(df_train[df_train.Region == 'Semiurban'])\n",
    "count_null = len(df_train[df_train.Region.isnull()])\n",
    "\n",
    "print(\"Percentage of Urban:\",(count_urban / (len(df_train.Region))*100),\"%\")\n",
    "print(\"Percentage of Rural:\",(count_rural / (len(df_train.Region))*100),\"%\")\n",
    "print(\"Percentage of Semiurban:\",(count_semi_urban / (len(df_train.Region))*100),\"%\")\n",
    "print(\"Missing values percentage:\",(count_null / (len(df_train.Region))*100),\"%\")"
   ]
  },
  {
   "cell_type": "markdown",
   "id": "caaa930a",
   "metadata": {},
   "source": [
    "This column has a balanced distribution between Urban, Rural, and Semiurban property area. No missing values are present in this column"
   ]
  },
  {
   "attachments": {},
   "cell_type": "markdown",
   "id": "ac39a933",
   "metadata": {},
   "source": [
    "<b> Tenure (in Years) </b>"
   ]
  },
  {
   "cell_type": "code",
   "execution_count": 31,
   "id": "cd57b087",
   "metadata": {},
   "outputs": [
    {
     "data": {
      "text/plain": [
       "30    512\n",
       "15     44\n",
       "40     15\n",
       "0      14\n",
       "25     13\n",
       "20      4\n",
       "7       4\n",
       "10      3\n",
       "5       2\n",
       "3       2\n",
       "1       1\n",
       "Name: Tenure (in Years), dtype: int64"
      ]
     },
     "execution_count": 31,
     "metadata": {},
     "output_type": "execute_result"
    }
   ],
   "source": [
    "df_train['Tenure (in Years)'].value_counts(dropna=False)"
   ]
  },
  {
   "cell_type": "code",
   "execution_count": 32,
   "id": "4d9e3cb6",
   "metadata": {},
   "outputs": [
    {
     "data": {
      "image/png": "[encoded data removed]",
      "text/plain": [
       "<Figure size 432x288 with 1 Axes>"
      ]
     },
     "metadata": {
      "needs_background": "light"
     },
     "output_type": "display_data"
    }
   ],
   "source": [
    "sns.countplot(x = \"Tenure (in Years)\", data = df_train, palette = \"crest\")\n",
    "plt.show()"
   ]
  },
  {
   "cell_type": "code",
   "execution_count": 33,
   "id": "046c855b",
   "metadata": {},
   "outputs": [
    {
     "name": "stdout",
     "output_type": "stream",
     "text": [
      "Percentage of Urban: 32.89902280130293 %\n",
      "Percentage of Rural: 29.153094462540718 %\n",
      "Percentage of Semiurban: 37.94788273615635 %\n",
      "Missing values percentage: 0.0 %\n"
     ]
    }
   ],
   "source": [
    "count_urban = len(df_train[df_train.Region == 'Urban'])\n",
    "count_rural = len(df_train[df_train.Region == 'Rural'])\n",
    "count_semi_urban = len(df_train[df_train.Region == 'Semiurban'])\n",
    "count_null = len(df_train[df_train.Region.isnull()])\n",
    "\n",
    "print(\"Percentage of Urban:\",(count_urban / (len(df_train.Region))*100),\"%\")\n",
    "print(\"Percentage of Rural:\",(count_rural / (len(df_train.Region))*100),\"%\")\n",
    "print(\"Percentage of Semiurban:\",(count_semi_urban / (len(df_train.Region))*100),\"%\")\n",
    "print(\"Missing values percentage:\",(count_null / (len(df_train.Region))*100),\"%\")"
   ]
  },
  {
   "cell_type": "markdown",
   "id": "2997a90a",
   "metadata": {},
   "source": [
    "As can be seen from the results, the 30 years loan duration is the most popular compared to others."
   ]
  },
  {
   "cell_type": "code",
   "execution_count": 34,
   "id": "9c3a9687",
   "metadata": {},
   "outputs": [
    {
     "data": {
      "image/png": "[encoded data removed]",
      "text/plain": [
       "<Figure size 720x576 with 3 Axes>"
      ]
     },
     "metadata": {},
     "output_type": "display_data"
    }
   ],
   "source": [
    "sns.set(style = \"darkgrid\")\n",
    "fig, axs = plt.subplots(1, 3, figsize=(10, 8))\n",
    "plt.subplot(1,3,1)\n",
    "sns.histplot(data = df_train, x = \"Applican tIncome\", kde = True, color = 'green')\n",
    "plt.subplot(1,3,2)\n",
    "sns.histplot(data = df_train, x = \"Coapplicant Income\", kde = True, color = 'skyblue')\n",
    "plt.subplot(1,3,3)\n",
    "sns.histplot(data = df_train, x = \"Loan Amount\", kde = True, color = 'orange');"
   ]
  },
  {
   "cell_type": "code",
   "execution_count": 35,
   "id": "20e9a37a",
   "metadata": {},
   "outputs": [
    {
     "data": {
      "image/png": "[encoded data removed]",
      "text/plain": [
       "<Figure size 720x720 with 3 Axes>"
      ]
     },
     "metadata": {},
     "output_type": "display_data"
    }
   ],
   "source": [
    "sns.set(style=\"darkgrid\")\n",
    "fig, axs1 = plt.subplots(1, 3, figsize=(10, 10))\n",
    "plt.subplot(1,3,1)\n",
    "sns.violinplot(data = df_train, y = \"Applican tIncome\", color = 'green')\n",
    "plt.subplot(1,3,2)\n",
    "sns.violinplot(data = df_train, y = \"Coapplicant Income\", color='skyblue')\n",
    "plt.subplot(1,3,3)\n",
    "sns.violinplot(data = df_train, y = \"Loan Amount\", color='orange');"
   ]
  },
  {
   "cell_type": "markdown",
   "id": "f25e4f98",
   "metadata": {},
   "source": [
    "The distribution of Applicant_income, Co_Applicant Income, and Loan_Amount are positively skewed and contains outliers.\n",
    "\n",
    "The distribution of Loan_Amount Term is negativly skewed and contain outliers as well."
   ]
  },
  {
   "cell_type": "code",
   "execution_count": 37,
   "id": "d3868bc2",
   "metadata": {},
   "outputs": [
    {
     "data": {
      "text/plain": [
       "<AxesSubplot:>"
      ]
     },
     "execution_count": 37,
     "metadata": {},
     "output_type": "execute_result"
    },
    {
     "data": {
      "image/png": "[encoded data removed]",
      "text/plain": [
       "<Figure size 720x360 with 2 Axes>"
      ]
     },
     "metadata": {},
     "output_type": "display_data"
    }
   ],
   "source": [
    "plt.figure(figsize = (10,5))\n",
    "sns.heatmap(train.corr(), annot = True)"
   ]
  },
  {
   "cell_type": "code",
   "execution_count": 38,
   "id": "b86ec765",
   "metadata": {},
   "outputs": [
    {
     "data": {
      "image/png": "[encoded data removed]",
      "text/plain": [
       "<Figure size 432x288 with 1 Axes>"
      ]
     },
     "metadata": {},
     "output_type": "display_data"
    }
   ],
   "source": [
    "pd.crosstab(train.Gender, train.Married).plot(kind = \"bar\", stacked = True)\n",
    "plt.title('Gender vs Married')\n",
    "plt.xlabel('Gender')\n",
    "plt.ylabel('Frequency')\n",
    "plt.xticks(rotation = 0)\n",
    "plt.show()"
   ]
  },
  {
   "cell_type": "markdown",
   "id": "0e033cbb",
   "metadata": {},
   "source": [
    "Most male applicants are already married compared to female applicants. Also, the number of not married male applicants are higher compare to female applicants that had not married."
   ]
  },
  {
   "cell_type": "code",
   "execution_count": 39,
   "id": "f2c9c7c1",
   "metadata": {},
   "outputs": [
    {
     "data": {
      "image/png": "[encoded data removed]",
      "text/plain": [
       "<Figure size 432x288 with 1 Axes>"
      ]
     },
     "metadata": {},
     "output_type": "display_data"
    }
   ],
   "source": [
    "pd.crosstab(train.Self_Employed, train.Credit_History).plot(kind = \"bar\", stacked = True)\n",
    "plt.title('Self Employed vs Credit History')\n",
    "plt.xlabel('Self Employed')\n",
    "plt.ylabel('Frequency')\n",
    "plt.legend([\"Bad Credit\", \"Good Credit\"])\n",
    "plt.xticks(rotation = 0)\n",
    "plt.show()"
   ]
  },
  {
   "cell_type": "markdown",
   "id": "50ac16a1",
   "metadata": {},
   "source": [
    "Most not self employed applicants have good credit compared to self employed applicants.\n"
   ]
  },
  {
   "cell_type": "code",
   "execution_count": 41,
   "id": "640402af",
   "metadata": {},
   "outputs": [
    {
     "data": {
      "image/png": "[encoded data removed]",
      "text/plain": [
       "<Figure size 432x288 with 1 Axes>"
      ]
     },
     "metadata": {},
     "output_type": "display_data"
    }
   ],
   "source": [
    "pd.crosstab(train.Area, train.Status).plot(kind = \"bar\", stacked = True)\n",
    "plt.title('Property Area vs Loan Status')\n",
    "plt.xlabel('Property Area')\n",
    "plt.ylabel('Frequency')\n",
    "plt.xticks(rotation = 0)\n",
    "plt.show()"
   ]
  },
  {
   "cell_type": "markdown",
   "id": "a62ca261",
   "metadata": {},
   "source": [
    "Most of loans that got accepted has property in Semiurban compared to Urban and Rural"
   ]
  },
  {
   "cell_type": "markdown",
   "id": "bc39aa27",
   "metadata": {},
   "source": [
    "<b> Null Values </b>"
   ]
  },
  {
   "cell_type": "code",
   "execution_count": 46,
   "id": "8d5c3c76",
   "metadata": {},
   "outputs": [
    {
     "data": {
      "text/plain": [
       "Gender                13\n",
       "Married                3\n",
       "Dependents            15\n",
       "Education              0\n",
       "Self_Employed         32\n",
       "Applicant_Income       0\n",
       "Coapplicant_Income     0\n",
       "Loan_Amount            0\n",
       "Term                  14\n",
       "Credit_History        50\n",
       "Area                   0\n",
       "Status                 0\n",
       "dtype: int64"
      ]
     },
     "execution_count": 46,
     "metadata": {},
     "output_type": "execute_result"
    }
   ],
   "source": [
    "train.isnull().sum()"
   ]
  },
  {
   "cell_type": "code",
   "execution_count": 47,
   "id": "b6bfcabe",
   "metadata": {},
   "outputs": [],
   "source": [
    "train['Gender'].fillna(train['Gender'].mode()[0],inplace = True)\n",
    "train['Married'].fillna(train['Married'].mode()[0],inplace = True)\n",
    "train['Dependents'].fillna(train['Dependents'].mode()[0],inplace = True)\n",
    "train['Self_Employed'].fillna(train['Self_Employed'].mode()[0],inplace = True)\n",
    "train['Credit_History'].fillna(train['Credit_History'].mode()[0],inplace = True)\n",
    "train['Term'].fillna(train['Term'].mode()[0],inplace = True)"
   ]
  },
  {
   "cell_type": "code",
   "execution_count": 48,
   "id": "e346ac11",
   "metadata": {},
   "outputs": [],
   "source": [
    "test['Gender'].fillna(test['Gender'].mode()[0],inplace = True)\n",
    "test['Married'].fillna(test['Married'].mode()[0],inplace = True)\n",
    "test['Dependents'].fillna(test['Dependents'].mode()[0],inplace = True)\n",
    "test['Self_Employed'].fillna(test['Self_Employed'].mode()[0],inplace = True)\n",
    "test['Credit_History'].fillna(test['Credit_History'].mode()[0],inplace = True)\n",
    "test['Term'].fillna(test['Term'].mode()[0],inplace = True)"
   ]
  },
  {
   "cell_type": "code",
   "execution_count": 49,
   "id": "73d163cf",
   "metadata": {},
   "outputs": [
    {
     "data": {
      "text/plain": [
       "Gender                0\n",
       "Married               0\n",
       "Dependents            0\n",
       "Education             0\n",
       "Self_Employed         0\n",
       "Applicant_Income      0\n",
       "Coapplicant_Income    0\n",
       "Loan_Amount           0\n",
       "Term                  0\n",
       "Credit_History        0\n",
       "Area                  0\n",
       "Status                0\n",
       "dtype: int64"
      ]
     },
     "execution_count": 49,
     "metadata": {},
     "output_type": "execute_result"
    }
   ],
   "source": [
    "train.isnull().sum()"
   ]
  },
  {
   "cell_type": "code",
   "execution_count": 50,
   "id": "54ccebc5",
   "metadata": {},
   "outputs": [],
   "source": [
    "train['Loan_Amount'].fillna(train['Loan_Amount'].mean(),inplace = True)"
   ]
  },
  {
   "cell_type": "code",
   "execution_count": 51,
   "id": "b0ebedab",
   "metadata": {},
   "outputs": [],
   "source": [
    "test['Loan_Amount'].fillna(test['Loan_Amount'].mean(),inplace = True)"
   ]
  },
  {
   "cell_type": "code",
   "execution_count": null,
   "id": "3dcd801a",
   "metadata": {},
   "outputs": [],
   "source": []
  },
  {
   "cell_type": "markdown",
   "id": "812edb18",
   "metadata": {
    "id": "812edb18"
   },
   "source": [
    "## 2.5 Write your observations from the above. \n",
    "1. Size of the dataset\n",
    "2. What type of data attributes are there?\n",
    "3. Is there any null data that has to be cleaned?\n",
    "\n",
    "Score: 2 Marks in total (0.25 marks for 2.1, 0.25 marks for 2.2, 0.5 marks for 2.3, 0.25 marks for 2.4, 0.75 marks for 2.5)"
   ]
  },
  {
   "cell_type": "raw",
   "id": "60d80d2f",
   "metadata": {
    "id": "60d80d2f"
   },
   "source": [
    "--------------Type the answers below this line--------------"
   ]
  },
  {
   "cell_type": "markdown",
   "id": "95e0b20d",
   "metadata": {},
   "source": [
    "<b> Answers:- </b>\n",
    "\n",
    "\n",
    "1. Size of the dataset\n",
    "2. What type of data attributes are there?\n",
    "3. Is there any null data that has to be cleaned?"
   ]
  },
  {
   "cell_type": "markdown",
   "id": "102e0e36",
   "metadata": {
    "id": "102e0e36"
   },
   "source": [
    "# 3. Data Preparation"
   ]
  },
  {
   "cell_type": "raw",
   "id": "637cb469",
   "metadata": {
    "id": "637cb469"
   },
   "source": [
    "If input data is numerical or categorical, do 3.1, 3.2 and 3.4\n",
    "If input data is text, do 3.3 and 3.4"
   ]
  },
  {
   "cell_type": "markdown",
   "id": "2bcb953b",
   "metadata": {
    "id": "2bcb953b"
   },
   "source": [
    "## 3.1 Check for \n",
    "\n",
    "* duplicate data\n",
    "* missing data\n",
    "* data inconsistencies\n"
   ]
  },
  {
   "cell_type": "code",
   "execution_count": null,
   "id": "5a5b960e",
   "metadata": {
    "id": "5a5b960e"
   },
   "outputs": [],
   "source": [
    "##---------Type the code below this line------------------##"
   ]
  },
  {
   "cell_type": "markdown",
   "id": "06fdebf8",
   "metadata": {
    "id": "06fdebf8"
   },
   "source": [
    "## 3.2 Apply techiniques\n",
    "* to remove duplicate data\n",
    "* to impute or remove missing data\n",
    "* to remove data inconsistencies\n"
   ]
  },
  {
   "cell_type": "code",
   "execution_count": null,
   "id": "dd3118eb",
   "metadata": {
    "id": "dd3118eb"
   },
   "outputs": [],
   "source": [
    "##---------Type the code below this line------------------##"
   ]
  },
  {
   "cell_type": "markdown",
   "id": "2139fedf",
   "metadata": {
    "id": "2139fedf"
   },
   "source": [
    "## 3.3 Encode categorical data"
   ]
  },
  {
   "cell_type": "code",
   "execution_count": null,
   "id": "da6886fc",
   "metadata": {
    "id": "da6886fc"
   },
   "outputs": [],
   "source": [
    "##---------Type the code below this line------------------##"
   ]
  },
  {
   "cell_type": "markdown",
   "id": "ae5a2917",
   "metadata": {
    "id": "ae5a2917"
   },
   "source": [
    "## 3.4 Text data\n",
    "\n",
    "1. Remove special characters\n",
    "2. Change the case (up-casing and down-casing).\n",
    "3. Tokenization — process of discretizing words within a document.\n",
    "4. Filter Stop Words."
   ]
  },
  {
   "cell_type": "code",
   "execution_count": null,
   "id": "c86d5b0b",
   "metadata": {
    "id": "c86d5b0b"
   },
   "outputs": [],
   "source": [
    "##---------Type the code below this line------------------##"
   ]
  },
  {
   "cell_type": "code",
   "execution_count": null,
   "id": "a3b2cdee",
   "metadata": {
    "id": "a3b2cdee"
   },
   "outputs": [],
   "source": [
    "##---------Type the code below this line------------------##"
   ]
  },
  {
   "cell_type": "markdown",
   "id": "e3cec4fc",
   "metadata": {
    "id": "e3cec4fc"
   },
   "source": [
    "## 3.4 Report\n",
    "\n",
    "Mention and justify the method adopted \n",
    "* to remove duplicate data, if present \n",
    "* to impute or remove missing data, if present \n",
    "* to remove data inconsistencies, if present \n",
    "\n",
    "OR for textdata\n",
    "* How many tokens after step 3?\n",
    "* how may tokens after stop words filtering?\n",
    "\n",
    "If the any of the above are not present, then also add in the report below.\n",
    "\n",
    "Score: 2 Marks (based on the dataset you have, the data prepreation you had to do and report typed, marks will be distributed between 3.1, 3.2, 3.3 and 3.4)"
   ]
  },
  {
   "cell_type": "code",
   "execution_count": null,
   "id": "3ab84ce6",
   "metadata": {
    "id": "3ab84ce6"
   },
   "outputs": [],
   "source": [
    "##---------Type the code below this line------------------##"
   ]
  },
  {
   "cell_type": "code",
   "execution_count": null,
   "id": "f0fea7e8",
   "metadata": {
    "id": "f0fea7e8"
   },
   "outputs": [],
   "source": [
    "##---------Type the code below this line------------------##"
   ]
  },
  {
   "cell_type": "markdown",
   "id": "793cd04b",
   "metadata": {
    "id": "793cd04b"
   },
   "source": [
    "## 3.5 Identify the target variables.\n",
    "\n",
    "* Separate the data from the target such that the dataset is in the form of (X,y) or (Features, Label)\n",
    "\n",
    "* Discretize / Encode the target variable or perform one-hot encoding on the target or any other as and if required.\n",
    "\n",
    "* Report the observations\n",
    "\n",
    "Score: 1 Mark"
   ]
  },
  {
   "cell_type": "code",
   "execution_count": null,
   "id": "c9089b57",
   "metadata": {
    "id": "c9089b57"
   },
   "outputs": [],
   "source": [
    "##---------Type the code below this line------------------##"
   ]
  },
  {
   "cell_type": "markdown",
   "id": "3ae0b5d2",
   "metadata": {
    "id": "3ae0b5d2"
   },
   "source": [
    "# 4. Data Exploration using various plots\n",
    "\n"
   ]
  },
  {
   "cell_type": "markdown",
   "id": "186bf4d7",
   "metadata": {
    "id": "186bf4d7"
   },
   "source": [
    "## 4.1 Scatter plot of each quantitative attribute with the target.\n",
    "\n",
    "Score: 1 Mark"
   ]
  },
  {
   "cell_type": "code",
   "execution_count": null,
   "id": "868d7b27",
   "metadata": {
    "id": "868d7b27"
   },
   "outputs": [],
   "source": [
    "##---------Type the code below this line------------------##"
   ]
  },
  {
   "cell_type": "markdown",
   "id": "575f9e37",
   "metadata": {
    "id": "575f9e37"
   },
   "source": [
    "## 4.2 EDA using visuals\n",
    "* Use (minimum) 2 plots (pair plot, heat map, correlation plot, regression plot...) to identify the optimal set of attributes that can be used for classification. \n",
    "* Name them, explain why you think they can be helpful in the task and perform the plot as well. Unless proper justification for the choice of plots given, no credit will be awarded.\n",
    "\n",
    "Score: 2 Marks"
   ]
  },
  {
   "cell_type": "code",
   "execution_count": null,
   "id": "4d614311",
   "metadata": {
    "id": "4d614311"
   },
   "outputs": [],
   "source": [
    "##---------Type the code below this line------------------##"
   ]
  },
  {
   "cell_type": "markdown",
   "id": "bdbc82a1",
   "metadata": {
    "id": "bdbc82a1"
   },
   "source": [
    "# 5. Data Wrangling\n",
    "\n"
   ]
  },
  {
   "cell_type": "markdown",
   "id": "ca214eb3",
   "metadata": {
    "id": "ca214eb3"
   },
   "source": [
    "## 5.1 Univariate Filters \n",
    "\n",
    "#### Numerical and Categorical Data\n",
    "* Identify top 5 significant features by evaluating each feature independently with respect to the target variable by exploring \n",
    "1. Mutual Information (Information Gain)\n",
    "2. Gini index\n",
    "3. Gain Ratio\n",
    "4. Chi-Squared test\n",
    "5. Fisher Score\n",
    "(From the above 5 you are required to use only any <b>two</b>) \n",
    "\n",
    "#### For Text data\n",
    "\n",
    "1. Stemming / Lemmatization.\n",
    "2. Forming n-grams and storing them in the document vector.\n",
    "3. TF-IDF\n",
    "(From the above 2 you are required to use only any <b>two</b>)\n",
    "\n",
    "\n",
    "Score: 3 Marks"
   ]
  },
  {
   "cell_type": "code",
   "execution_count": null,
   "id": "a85e9754",
   "metadata": {
    "id": "a85e9754"
   },
   "outputs": [],
   "source": [
    "##---------Type the code below this line------------------##"
   ]
  },
  {
   "cell_type": "markdown",
   "id": "38031f24",
   "metadata": {
    "id": "38031f24"
   },
   "source": [
    "## 5.2 Report observations\n",
    "\n",
    "Write your observations from the results of each method. Clearly justify your choice of the method.\n",
    "\n",
    "Score 1 mark"
   ]
  },
  {
   "cell_type": "code",
   "execution_count": null,
   "id": "85c7a3a8",
   "metadata": {
    "id": "85c7a3a8"
   },
   "outputs": [],
   "source": [
    "##---------Type the code below this line------------------##"
   ]
  },
  {
   "cell_type": "markdown",
   "id": "06f1173c",
   "metadata": {
    "id": "06f1173c"
   },
   "source": [
    "# 6. Implement Machine Learning Techniques\n",
    "\n",
    "Use any 2 ML algorithms\n",
    "\n",
    "A clear justification have to be given for why a certain algorithm was chosen to address your problem.\n",
    "\n",
    "Score: 4 Marks (2 marks each for each algorithm)"
   ]
  },
  {
   "cell_type": "markdown",
   "id": "040afed8",
   "metadata": {
    "id": "040afed8"
   },
   "source": [
    "## 6.1 ML technique 1 + Justification"
   ]
  },
  {
   "cell_type": "code",
   "execution_count": 53,
   "id": "68fa5cf0",
   "metadata": {},
   "outputs": [],
   "source": [
    "train = pd.get_dummies(train)\n",
    "\n",
    "# Drop columns\n",
    "train = train.drop(['Gender_Female', 'Married_No', 'Education_Not Graduate', \n",
    "              'Self_Employed_No', 'Status_N'], axis = 1)\n",
    "\n",
    "# Rename columns name\n",
    "new = {'Gender_Male': 'Gender', 'Married_Yes': 'Married', \n",
    "       'Education_Graduate': 'Education', 'Self_Employed_Yes': 'Self_Employed',\n",
    "       'Loan_Status_Y': 'Loan_Status'}\n",
    "       \n",
    "train.rename(columns = new, inplace = True)"
   ]
  },
  {
   "cell_type": "code",
   "execution_count": 54,
   "id": "7042235d",
   "metadata": {
    "id": "7042235d"
   },
   "outputs": [],
   "source": [
    "x = train.drop([\"Status_Y\"], axis = 1)\n",
    "y = train[\"Status_Y\"]"
   ]
  },
  {
   "cell_type": "code",
   "execution_count": 55,
   "id": "bc49019e",
   "metadata": {},
   "outputs": [],
   "source": [
    "x_train, x_test, y_train, y_test = train_test_split(x, y, test_size = 0.2, random_state = 42)"
   ]
  },
  {
   "cell_type": "code",
   "execution_count": 56,
   "id": "ae1d7007",
   "metadata": {},
   "outputs": [
    {
     "ename": "ValueError",
     "evalue": "could not convert string to float: 'Male'",
     "output_type": "error",
     "traceback": [
      "\u001b[1;31m---------------------------------------------------------------------------\u001b[0m",
      "\u001b[1;31mValueError\u001b[0m                                Traceback (most recent call last)",
      "Input \u001b[1;32mIn [56]\u001b[0m, in \u001b[0;36m<cell line: 4>\u001b[1;34m()\u001b[0m\n\u001b[0;32m      2\u001b[0m x_train \u001b[38;5;241m=\u001b[39m minmax\u001b[38;5;241m.\u001b[39mfit_transform(x_train)\n\u001b[0;32m      3\u001b[0m x_test \u001b[38;5;241m=\u001b[39m minmax\u001b[38;5;241m.\u001b[39mtransform(x_test)\n\u001b[1;32m----> 4\u001b[0m test \u001b[38;5;241m=\u001b[39m \u001b[43mminmax\u001b[49m\u001b[38;5;241;43m.\u001b[39;49m\u001b[43mtransform\u001b[49m\u001b[43m(\u001b[49m\u001b[43mtest\u001b[49m\u001b[43m)\u001b[49m\n",
      "File \u001b[1;32m~\\anaconda3\\lib\\site-packages\\sklearn\\preprocessing\\_data.py:496\u001b[0m, in \u001b[0;36mMinMaxScaler.transform\u001b[1;34m(self, X)\u001b[0m\n\u001b[0;32m    482\u001b[0m \u001b[38;5;124;03m\"\"\"Scale features of X according to feature_range.\u001b[39;00m\n\u001b[0;32m    483\u001b[0m \n\u001b[0;32m    484\u001b[0m \u001b[38;5;124;03mParameters\u001b[39;00m\n\u001b[1;32m   (...)\u001b[0m\n\u001b[0;32m    492\u001b[0m \u001b[38;5;124;03m    Transformed data.\u001b[39;00m\n\u001b[0;32m    493\u001b[0m \u001b[38;5;124;03m\"\"\"\u001b[39;00m\n\u001b[0;32m    494\u001b[0m check_is_fitted(\u001b[38;5;28mself\u001b[39m)\n\u001b[1;32m--> 496\u001b[0m X \u001b[38;5;241m=\u001b[39m \u001b[38;5;28;43mself\u001b[39;49m\u001b[38;5;241;43m.\u001b[39;49m\u001b[43m_validate_data\u001b[49m\u001b[43m(\u001b[49m\n\u001b[0;32m    497\u001b[0m \u001b[43m    \u001b[49m\u001b[43mX\u001b[49m\u001b[43m,\u001b[49m\n\u001b[0;32m    498\u001b[0m \u001b[43m    \u001b[49m\u001b[43mcopy\u001b[49m\u001b[38;5;241;43m=\u001b[39;49m\u001b[38;5;28;43mself\u001b[39;49m\u001b[38;5;241;43m.\u001b[39;49m\u001b[43mcopy\u001b[49m\u001b[43m,\u001b[49m\n\u001b[0;32m    499\u001b[0m \u001b[43m    \u001b[49m\u001b[43mdtype\u001b[49m\u001b[38;5;241;43m=\u001b[39;49m\u001b[43mFLOAT_DTYPES\u001b[49m\u001b[43m,\u001b[49m\n\u001b[0;32m    500\u001b[0m \u001b[43m    \u001b[49m\u001b[43mforce_all_finite\u001b[49m\u001b[38;5;241;43m=\u001b[39;49m\u001b[38;5;124;43m\"\u001b[39;49m\u001b[38;5;124;43mallow-nan\u001b[39;49m\u001b[38;5;124;43m\"\u001b[39;49m\u001b[43m,\u001b[49m\n\u001b[0;32m    501\u001b[0m \u001b[43m    \u001b[49m\u001b[43mreset\u001b[49m\u001b[38;5;241;43m=\u001b[39;49m\u001b[38;5;28;43;01mFalse\u001b[39;49;00m\u001b[43m,\u001b[49m\n\u001b[0;32m    502\u001b[0m \u001b[43m\u001b[49m\u001b[43m)\u001b[49m\n\u001b[0;32m    504\u001b[0m X \u001b[38;5;241m*\u001b[39m\u001b[38;5;241m=\u001b[39m \u001b[38;5;28mself\u001b[39m\u001b[38;5;241m.\u001b[39mscale_\n\u001b[0;32m    505\u001b[0m X \u001b[38;5;241m+\u001b[39m\u001b[38;5;241m=\u001b[39m \u001b[38;5;28mself\u001b[39m\u001b[38;5;241m.\u001b[39mmin_\n",
      "File \u001b[1;32m~\\anaconda3\\lib\\site-packages\\sklearn\\base.py:566\u001b[0m, in \u001b[0;36mBaseEstimator._validate_data\u001b[1;34m(self, X, y, reset, validate_separately, **check_params)\u001b[0m\n\u001b[0;32m    564\u001b[0m     \u001b[38;5;28;01mraise\u001b[39;00m \u001b[38;5;167;01mValueError\u001b[39;00m(\u001b[38;5;124m\"\u001b[39m\u001b[38;5;124mValidation should be done on X, y or both.\u001b[39m\u001b[38;5;124m\"\u001b[39m)\n\u001b[0;32m    565\u001b[0m \u001b[38;5;28;01melif\u001b[39;00m \u001b[38;5;129;01mnot\u001b[39;00m no_val_X \u001b[38;5;129;01mand\u001b[39;00m no_val_y:\n\u001b[1;32m--> 566\u001b[0m     X \u001b[38;5;241m=\u001b[39m check_array(X, \u001b[38;5;241m*\u001b[39m\u001b[38;5;241m*\u001b[39mcheck_params)\n\u001b[0;32m    567\u001b[0m     out \u001b[38;5;241m=\u001b[39m X\n\u001b[0;32m    568\u001b[0m \u001b[38;5;28;01melif\u001b[39;00m no_val_X \u001b[38;5;129;01mand\u001b[39;00m \u001b[38;5;129;01mnot\u001b[39;00m no_val_y:\n",
      "File \u001b[1;32m~\\anaconda3\\lib\\site-packages\\sklearn\\utils\\validation.py:746\u001b[0m, in \u001b[0;36mcheck_array\u001b[1;34m(array, accept_sparse, accept_large_sparse, dtype, order, copy, force_all_finite, ensure_2d, allow_nd, ensure_min_samples, ensure_min_features, estimator)\u001b[0m\n\u001b[0;32m    744\u001b[0m         array \u001b[38;5;241m=\u001b[39m array\u001b[38;5;241m.\u001b[39mastype(dtype, casting\u001b[38;5;241m=\u001b[39m\u001b[38;5;124m\"\u001b[39m\u001b[38;5;124munsafe\u001b[39m\u001b[38;5;124m\"\u001b[39m, copy\u001b[38;5;241m=\u001b[39m\u001b[38;5;28;01mFalse\u001b[39;00m)\n\u001b[0;32m    745\u001b[0m     \u001b[38;5;28;01melse\u001b[39;00m:\n\u001b[1;32m--> 746\u001b[0m         array \u001b[38;5;241m=\u001b[39m \u001b[43mnp\u001b[49m\u001b[38;5;241;43m.\u001b[39;49m\u001b[43masarray\u001b[49m\u001b[43m(\u001b[49m\u001b[43marray\u001b[49m\u001b[43m,\u001b[49m\u001b[43m \u001b[49m\u001b[43morder\u001b[49m\u001b[38;5;241;43m=\u001b[39;49m\u001b[43morder\u001b[49m\u001b[43m,\u001b[49m\u001b[43m \u001b[49m\u001b[43mdtype\u001b[49m\u001b[38;5;241;43m=\u001b[39;49m\u001b[43mdtype\u001b[49m\u001b[43m)\u001b[49m\n\u001b[0;32m    747\u001b[0m \u001b[38;5;28;01mexcept\u001b[39;00m ComplexWarning \u001b[38;5;28;01mas\u001b[39;00m complex_warning:\n\u001b[0;32m    748\u001b[0m     \u001b[38;5;28;01mraise\u001b[39;00m \u001b[38;5;167;01mValueError\u001b[39;00m(\n\u001b[0;32m    749\u001b[0m         \u001b[38;5;124m\"\u001b[39m\u001b[38;5;124mComplex data not supported\u001b[39m\u001b[38;5;130;01m\\n\u001b[39;00m\u001b[38;5;132;01m{}\u001b[39;00m\u001b[38;5;130;01m\\n\u001b[39;00m\u001b[38;5;124m\"\u001b[39m\u001b[38;5;241m.\u001b[39mformat(array)\n\u001b[0;32m    750\u001b[0m     ) \u001b[38;5;28;01mfrom\u001b[39;00m \u001b[38;5;21;01mcomplex_warning\u001b[39;00m\n",
      "File \u001b[1;32m~\\anaconda3\\lib\\site-packages\\pandas\\core\\generic.py:2064\u001b[0m, in \u001b[0;36mNDFrame.__array__\u001b[1;34m(self, dtype)\u001b[0m\n\u001b[0;32m   2063\u001b[0m \u001b[38;5;28;01mdef\u001b[39;00m \u001b[38;5;21m__array__\u001b[39m(\u001b[38;5;28mself\u001b[39m, dtype: npt\u001b[38;5;241m.\u001b[39mDTypeLike \u001b[38;5;241m|\u001b[39m \u001b[38;5;28;01mNone\u001b[39;00m \u001b[38;5;241m=\u001b[39m \u001b[38;5;28;01mNone\u001b[39;00m) \u001b[38;5;241m-\u001b[39m\u001b[38;5;241m>\u001b[39m np\u001b[38;5;241m.\u001b[39mndarray:\n\u001b[1;32m-> 2064\u001b[0m     \u001b[38;5;28;01mreturn\u001b[39;00m \u001b[43mnp\u001b[49m\u001b[38;5;241;43m.\u001b[39;49m\u001b[43masarray\u001b[49m\u001b[43m(\u001b[49m\u001b[38;5;28;43mself\u001b[39;49m\u001b[38;5;241;43m.\u001b[39;49m\u001b[43m_values\u001b[49m\u001b[43m,\u001b[49m\u001b[43m \u001b[49m\u001b[43mdtype\u001b[49m\u001b[38;5;241;43m=\u001b[39;49m\u001b[43mdtype\u001b[49m\u001b[43m)\u001b[49m\n",
      "\u001b[1;31mValueError\u001b[0m: could not convert string to float: 'Male'"
     ]
    }
   ],
   "source": [
    "minmax = MinMaxScaler()\n",
    "x_train = minmax.fit_transform(x_train)\n",
    "x_test = minmax.transform(x_test)\n",
    "test = minmax.transform(test)"
   ]
  },
  {
   "cell_type": "code",
   "execution_count": null,
   "id": "ca1e7ad2",
   "metadata": {},
   "outputs": [],
   "source": []
  },
  {
   "cell_type": "code",
   "execution_count": null,
   "id": "319fbae1",
   "metadata": {},
   "outputs": [],
   "source": []
  },
  {
   "cell_type": "markdown",
   "id": "f610ca8c",
   "metadata": {
    "id": "f610ca8c"
   },
   "source": [
    "## 6.2 ML technique 2 + Justification"
   ]
  },
  {
   "cell_type": "code",
   "execution_count": null,
   "id": "9b75e079",
   "metadata": {
    "id": "9b75e079"
   },
   "outputs": [],
   "source": [
    "##---------Type the code below this line------------------##"
   ]
  },
  {
   "cell_type": "markdown",
   "id": "eb57940c",
   "metadata": {
    "id": "eb57940c"
   },
   "source": [
    "## 7. Conclusion \n",
    "\n",
    "Compare the performance of the ML techniques used.\n",
    "\n",
    "Derive values for preformance study metrics like accuracy, precision, recall, F1 Score, AUC-ROC etc to compare the ML algos and plot them. A proper comparision based on different metrics should be done and not just accuracy alone, only then the comparision becomes authentic. You may use Confusion matrix, classification report, Word cloud etc as per the requirement of your application/problem.\n",
    "\n",
    "Score 1 Mark"
   ]
  },
  {
   "cell_type": "code",
   "execution_count": null,
   "id": "9bf06eb1",
   "metadata": {
    "id": "9bf06eb1"
   },
   "outputs": [],
   "source": [
    "##---------Type the code below this line------------------##"
   ]
  },
  {
   "cell_type": "markdown",
   "id": "79ed0137",
   "metadata": {
    "id": "79ed0137"
   },
   "source": [
    "## 8. Solution\n",
    "\n",
    "What is the solution that is proposed to solve the business problem discussed in Section 1. Also share your learnings while working through solving the problem in terms of challenges, observations, decisions made etc.\n",
    "\n",
    "Score 2 Marks"
   ]
  },
  {
   "cell_type": "markdown",
   "id": "324448eb",
   "metadata": {
    "id": "324448eb"
   },
   "source": [
    "--------------Type the answers below this line--------------"
   ]
  },
  {
   "cell_type": "raw",
   "id": "68ab61d5",
   "metadata": {
    "id": "68ab61d5"
   },
   "source": [
    "##---------Type the answer below this line------------------##"
   ]
  },
  {
   "cell_type": "markdown",
   "id": "RcDDQlfbZQ7E",
   "metadata": {
    "id": "RcDDQlfbZQ7E"
   },
   "source": [
    "##NOTE\n",
    "All Late Submissions will incur a penalty of -2 marks. Do ensure on time submission to avoid penalty.\n",
    "\n",
    "Good Luck!!!"
   ]
  }
 ],
 "metadata": {
  "colab": {
   "provenance": [
    {
     "file_id": "1odJexpJ0S99Vsdi3hrssHTDeemXCt7YL",
     "timestamp": 1677154931950
    }
   ]
  },
  "kernelspec": {
   "display_name": "Python 3 (ipykernel)",
   "language": "python",
   "name": "python3"
  },
  "language_info": {
   "codemirror_mode": {
    "name": "ipython",
    "version": 3
   },
   "file_extension": ".py",
   "mimetype": "text/x-python",
   "name": "python",
   "nbconvert_exporter": "python",
   "pygments_lexer": "ipython3",
   "version": "3.9.12"
  }
 },
 "nbformat": 4,
 "nbformat_minor": 5
}
